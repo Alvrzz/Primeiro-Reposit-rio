{
 "cells": [
  {
   "cell_type": "markdown",
   "metadata": {},
   "source": [
    "# Exercícios\n",
    "\n",
    "## 1. Calculando % de uma lista\n",
    "\n",
    "Faremos algo parecido com \"filtrar\" uma lista. Mais pra frente no curso aprenderemos outras formas de fazer isso, mas com o nosso conhecimentoa atual já conseguimos resolver o desafio.\n",
    "\n",
    "Digamos que a gente tenha uma lista de vendedores e ao invés de saber todos os vendedores que bateram a meta, eu quero conseguir calcular o % de vendedores que bateram a meta. Ou seja, se temos 10 vendedores e 3 bateram a meta, temos 30% dos vendedores que bateram a meta."
   ]
  },
  {
   "cell_type": "code",
   "execution_count": 31,
   "metadata": {},
   "outputs": [
    {
     "name": "stdout",
     "output_type": "stream",
     "text": [
      "6\n"
     ]
    }
   ],
   "source": [
    "meta = 10000\n",
    "vendas = [\n",
    "    ['João', 15000],\n",
    "    ['Julia', 27000],\n",
    "    ['Marcus', 9900],       #vendas\n",
    "    ['Maria', 3750],\n",
    "    ['Ana', 10300],\n",
    "    ['Alon', 7870],\n",
    "]\n",
    "\n",
    "acima_meta = []# lista vazia\n",
    "\n",
    "for venda in vendas: # criei uma variavel venda dentro de vendas\n",
    "    if venda[1] >= meta: # se o venda[1] que é os numeros na lista vendas for maior que a meta :\n",
    "        acima_meta.append(venda) #adiociona na lista vazia\n",
    "       \n",
    "        \n",
    "print(acima_meta) \n",
    "\n",
    " #len da o total de itens\n",
    "\n",
    "\n",
    "                #3           #6            \n",
    "print(f'{len(acima_meta) / len(vendas):.0%} ') #aqui fez o total(len) de cada variavel no caso 6/3"
   ]
  },
  {
   "cell_type": "markdown",
   "metadata": {},
   "source": [
    "- Vamos resolver de 2 formas:\n",
    "    1. Criando uma lista auxiliar apenas com os vendedores que bateram a meta\n",
    "    2. Fazendo o cálculo diretamente na lista que já temos"
   ]
  },
  {
   "cell_type": "markdown",
   "metadata": {},
   "source": [
    "## Para treinar uma estrutura parecida, crie um código para responder: quem foi o vendedor que mais vendeu?"
   ]
  },
  {
   "cell_type": "code",
   "execution_count": 42,
   "metadata": {},
   "outputs": [
    {
     "name": "stdout",
     "output_type": "stream",
     "text": [
      "o melhor vendedor foi Julia com 27,000 vendas\n"
     ]
    }
   ],
   "source": [
    "melhor_vendedor = '' #criei uma variavel vazia que pode ser adiocionada\n",
    "maior_vendas = 0 #quantidade que pode ser alterada mas que teve posição inicial 0 \n",
    "\n",
    "for venda in vendas: \n",
    "    if venda[1] > maior_vendas: #se a posição[1] quantidade for maior que o antigo maior vendas ela vai atualizar (0...)\n",
    "        maior_vendas = venda[1] #atualiza a quantidade\n",
    "        melhor_vendedor = venda[0] #atualiza a variavel vazia\n",
    "        \n",
    "print(f'o melhor vendedor foi {melhor_vendedor} com {maior_vendas:,} vendas!')\n"
   ]
  },
  {
   "cell_type": "code",
   "execution_count": null,
   "metadata": {},
   "outputs": [],
   "source": []
  },
  {
   "cell_type": "code",
   "execution_count": null,
   "metadata": {},
   "outputs": [],
   "source": []
  }
 ],
 "metadata": {
  "kernelspec": {
   "display_name": "Python 3 (ipykernel)",
   "language": "python",
   "name": "python3"
  },
  "language_info": {
   "codemirror_mode": {
    "name": "ipython",
    "version": 3
   },
   "file_extension": ".py",
   "mimetype": "text/x-python",
   "name": "python",
   "nbconvert_exporter": "python",
   "pygments_lexer": "ipython3",
   "version": "3.9.7"
  }
 },
 "nbformat": 4,
 "nbformat_minor": 4
}
